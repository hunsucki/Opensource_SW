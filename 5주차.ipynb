{
  "nbformat": 4,
  "nbformat_minor": 0,
  "metadata": {
    "colab": {
      "provenance": []
    },
    "kernelspec": {
      "name": "python3",
      "display_name": "Python 3"
    },
    "language_info": {
      "name": "python"
    }
  },
  "cells": [
    {
      "cell_type": "code",
      "execution_count": null,
      "metadata": {
        "id": "R-JB34pp-d_R"
      },
      "outputs": [],
      "source": [
        "#1\n",
        "\n",
        "s = 'café'\n",
        "len(s)\n",
        "\n",
        "b = s.encode('utf8')\n",
        "b\n",
        "len(b)\n",
        "b.decode('utf8')\n"
      ]
    },
    {
      "cell_type": "code",
      "source": [
        "#2\n",
        "\n",
        "cafe = bytes('café', encoding='utf_8')\n",
        "cafe\n",
        "\n",
        "cafe[0]\n",
        "\n",
        "cafe[:1]\n",
        "\n",
        "cafe_arr = bytearray(cafe)\n",
        "\n",
        "cafe_arr\n",
        "\n",
        "cafe_arr[-1:]\n"
      ],
      "metadata": {
        "id": "e4IEUGsY_2SG"
      },
      "execution_count": null,
      "outputs": []
    },
    {
      "cell_type": "code",
      "source": [
        "#3\n",
        "\n",
        "bytes.fromhex('31 4B CE A9')"
      ],
      "metadata": {
        "id": "aoa-i3bv13dX"
      },
      "execution_count": null,
      "outputs": []
    },
    {
      "cell_type": "code",
      "source": [
        "#4\n",
        "\n",
        "import array\n",
        "\n",
        "numbers = array.array('h', [-2, -1, 0, 1, 2])\n",
        "octets = bytes(numbers)\n",
        "octets\n"
      ],
      "metadata": {
        "id": "J-Fuxjh5_2Un"
      },
      "execution_count": null,
      "outputs": []
    },
    {
      "cell_type": "code",
      "source": [
        "#5\n",
        "\n",
        "import struct\n",
        "\n",
        "fmt = '<3s3sHH'\n",
        "with open('./simpsons.gif', 'rb') as fp:\n",
        "    img = memoryview(fp.read())\n",
        "header = img[:10]\n",
        "bytes(header)\n",
        "struct.unpack(fmt, header)\n",
        "\n",
        "del header\n",
        "del img\n"
      ],
      "metadata": {
        "id": "PdDQwWOE_2XQ"
      },
      "execution_count": null,
      "outputs": []
    },
    {
      "cell_type": "code",
      "source": [
        "#6\n",
        "\n",
        "for codec in ['latin_1', 'utf_8', 'utf_16']:\n",
        "    print(codec, 'El Niño'.encode(codec), sep='\\t')\n",
        "\n",
        "for codec in ['ascii', 'latin_1', 'cp1252', 'cp437', 'utf8', 'utf-16le', 'gb2312']:\n",
        "    print(codec, 'A'.encode(codec), sep='\\t')\n"
      ],
      "metadata": {
        "id": "hHT3ou1e_2ZW"
      },
      "execution_count": null,
      "outputs": []
    },
    {
      "cell_type": "code",
      "source": [
        "#7\n",
        "\n",
        "city = 'São Paulo'\n",
        "city.encode('utf_8')\n",
        "\n",
        "city.encode('utf_16')\n",
        "\n",
        "city.encode('iso8859_1')\n",
        "\n",
        "city.encode('cp437')\n",
        "\n",
        "city.encode('cp437', errors='ignore')\n",
        "\n",
        "city.encode('cp437', errors='replace')\n",
        "\n",
        "city.encode('cp437', errors='xmlcharrefreplace')\n"
      ],
      "metadata": {
        "id": "rxj8zwQM_2cD"
      },
      "execution_count": null,
      "outputs": []
    },
    {
      "cell_type": "code",
      "source": [
        "#8\n",
        "\n",
        "octets = b'Montr\\xe9al'\n",
        "octets.decode('cp1252')\n",
        "\n",
        "octets.decode('iso8859_7')\n",
        "\n",
        "octets.decode('koi8_r')\n",
        "\n",
        "octets.decode('utf_8')\n",
        "\n",
        "octets.decode('utf_8', errors='replace')\n",
        "\n",
        "'é'.encode('utf8')\n"
      ],
      "metadata": {
        "id": "5km6KsUHBA5X"
      },
      "execution_count": null,
      "outputs": []
    },
    {
      "cell_type": "code",
      "source": [
        "#9\n",
        "\n",
        "u16le = 'El Niño'.encode('utf_16le')\n",
        "\n",
        "u16le\n",
        "list(u16le)\n",
        "\n",
        "u16be = 'El Niño'.encode('utf_16be')\n",
        "\n",
        "u16be\n",
        "list(u16be)\n"
      ],
      "metadata": {
        "id": "Asg7CzjeBA7q"
      },
      "execution_count": null,
      "outputs": []
    }
  ]
}
