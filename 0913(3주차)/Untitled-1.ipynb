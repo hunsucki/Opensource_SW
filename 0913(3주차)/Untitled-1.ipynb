{
 "cells": [
  {
   "cell_type": "code",
   "execution_count": 2,
   "metadata": {},
   "outputs": [
    {
     "name": "stdout",
     "output_type": "stream",
     "text": [
      "[36, 42, 38, 33, 64]\n"
     ]
    }
   ],
   "source": [
    "#예제1\n",
    "\n",
    "symbols = \"$*&!@\"\n",
    "codes = []\n",
    "\n",
    "for symbol in symbols :\n",
    "    codes.append(ord(symbol))\n",
    "\n",
    "print(codes)"
   ]
  },
  {
   "cell_type": "code",
   "execution_count": 3,
   "metadata": {},
   "outputs": [
    {
     "name": "stdout",
     "output_type": "stream",
     "text": [
      "[36, 42, 38, 33, 64]\n"
     ]
    }
   ],
   "source": [
    "#예제2\n",
    "\n",
    "symbols = \"$*&!@\"\n",
    "codes = [ord(symbol) for symbol in symbols]\n",
    "\n",
    "print(codes)"
   ]
  },
  {
   "cell_type": "code",
   "execution_count": 4,
   "metadata": {},
   "outputs": [
    {
     "name": "stdout",
     "output_type": "stream",
     "text": [
      "\"!$$*&@\n",
      "[34, 33, 36, 36, 42, 38, 64]\n"
     ]
    }
   ],
   "source": [
    "#예제3\n",
    "\n",
    "x = '\"!$$*&@'\n",
    "dummy = [ord(x) for x in x]\n",
    "print(x)\n",
    "print(dummy)\n"
   ]
  },
  {
   "cell_type": "code",
   "execution_count": null,
   "metadata": {},
   "outputs": [],
   "source": [
    "#예제4\n",
    "\n",
    "symbols = '\"!~$$*&!@'\n",
    "beyond_ascii = [ord(s) for s in symbols if ord(s) > 32]\n",
    "\n",
    "print(beyond_ascii)"
   ]
  },
  {
   "cell_type": "code",
   "execution_count": 5,
   "metadata": {},
   "outputs": [
    {
     "name": "stdout",
     "output_type": "stream",
     "text": [
      "[126] \n",
      "\n",
      "Map function\n",
      ">>> <map object at 0x000001FF27E82AD0>\n",
      "List after map:\n",
      ">>> [34, 33, 126, 36, 36, 42, 38, 33, 64]\n"
     ]
    }
   ],
   "source": [
    "#예제5\n",
    "\n",
    "symbols = '\"!~$$*&!@'\n",
    "beyond_ascii = list(filter(lambda c: c>64, map(ord, symbols)))\n",
    "\n",
    "print(beyond_ascii, '\\n')\n",
    "\n",
    "print(f\"Map function\\n>>> {map(ord, symbols)}\")\n",
    "print(f\"List after map:\\n>>> {list(map(ord, symbols))}\")\n"
   ]
  },
  {
   "cell_type": "code",
   "execution_count": 7,
   "metadata": {},
   "outputs": [
    {
     "name": "stdout",
     "output_type": "stream",
     "text": [
      "[('black', 'S'), ('black', 'M'), ('black', 'L'), ('white', 'S'), ('white', 'M'), ('white', 'L')]\n",
      "('black', 'S')\n",
      "('black', 'M')\n",
      "('black', 'L')\n",
      "('white', 'S')\n",
      "('white', 'M')\n",
      "('white', 'L')\n"
     ]
    }
   ],
   "source": [
    "#예제6\n",
    "\n",
    "colors = ['black', 'white']\n",
    "sizes = ['S', 'M', 'L']\n",
    "tshirts = [(color, size) for color in colors for size in sizes]\n",
    "\n",
    "print(tshirts)\n",
    "\n",
    "for color in colors :\n",
    "    for size in sizes :\n",
    "        print((color, size))\n",
    "        "
   ]
  },
  {
   "cell_type": "code",
   "execution_count": 8,
   "metadata": {},
   "outputs": [
    {
     "name": "stdout",
     "output_type": "stream",
     "text": [
      "(33, 35, 94, 38, 38, 35)\n"
     ]
    }
   ],
   "source": [
    "#예제7\n",
    "\n",
    "symbols = \"!#^&&#\"\n",
    "ord_s = tuple(ord(s) for s in symbols if ord(s))\n",
    "\n",
    "print(ord_s)"
   ]
  },
  {
   "cell_type": "code",
   "execution_count": 9,
   "metadata": {},
   "outputs": [
    {
     "name": "stdout",
     "output_type": "stream",
     "text": [
      "array('I', [33, 35, 94, 38, 38, 35])\n"
     ]
    }
   ],
   "source": [
    "#예제7-1\n",
    "\n",
    "import array\n",
    "\n",
    "ord_s = array.array('I', (ord(symbol) for symbol in symbols))\n",
    "print(ord_s)"
   ]
  },
  {
   "cell_type": "code",
   "execution_count": 10,
   "metadata": {},
   "outputs": [
    {
     "name": "stdout",
     "output_type": "stream",
     "text": [
      "black S\n",
      "white S\n",
      "black M\n",
      "white M\n",
      "black L\n",
      "white L\n"
     ]
    }
   ],
   "source": [
    "#예제8\n",
    "\n",
    "colors = ['black', 'white']\n",
    "sizes = ['S', 'M', 'L']\n",
    "\n",
    "for tshirt in ('{} {}'.format(c, s)for s in sizes for c in colors) :\n",
    "    print(tshirt)\n"
   ]
  },
  {
   "cell_type": "code",
   "execution_count": 12,
   "metadata": {},
   "outputs": [
    {
     "name": "stdout",
     "output_type": "stream",
     "text": [
      "BRA/CE342567\n",
      "BRA/CE342567\n",
      "BRA/CE342567\n",
      "ESP/XDA205856\n",
      "ESP/XDA205856\n",
      "ESP/XDA205856\n",
      "USA/31195855\n",
      "USA/31195855\n",
      "USA/31195855\n"
     ]
    }
   ],
   "source": [
    "#예제9\n",
    "\n",
    "lax_coordinates = (33.9425, -118.408056)\n",
    "city, year, pop, chg, area = ('Tokyo', 2003, 32450, 0.66, 8014)\n",
    "traveler_ids = [('USA', '31195855'),\n",
    "                ('BRA', 'CE342567'),\n",
    "                ('ESP', 'XDA205856')]\n",
    "\n",
    "for passport in sorted(traveler_ids) :\n",
    "    print('%s/%s' % passport)\n",
    "    print('{}/{}'.format(passport[0], passport[1]))\n",
    "    print(f\"{passport[0]}/{passport[1]}\")\n"
   ]
  },
  {
   "cell_type": "code",
   "execution_count": 14,
   "metadata": {},
   "outputs": [
    {
     "name": "stdout",
     "output_type": "stream",
     "text": [
      "USA\n",
      "BRA\n",
      "ESP\n"
     ]
    }
   ],
   "source": [
    "#예제10\n",
    "\n",
    "for country, _ in traveler_ids :\n",
    "    print(country)"
   ]
  },
  {
   "cell_type": "code",
   "execution_count": 15,
   "metadata": {},
   "outputs": [
    {
     "name": "stdout",
     "output_type": "stream",
     "text": [
      "33.9425\n",
      "-118.408056\n"
     ]
    }
   ],
   "source": [
    "#예제11\n",
    "\n",
    "lax_coordinates = (33.9425, -118.408056)\n",
    "latitude, longtitude = lax_coordinates\n",
    "print(latitude)\n",
    "print(longtitude)\n"
   ]
  },
  {
   "cell_type": "code",
   "execution_count": 16,
   "metadata": {},
   "outputs": [
    {
     "name": "stdout",
     "output_type": "stream",
     "text": [
      "20 10\n"
     ]
    }
   ],
   "source": [
    "#예제12\n",
    "\n",
    "a = 10; b = 20\n",
    "b, a = a, b\n",
    "print(a, b)"
   ]
  },
  {
   "cell_type": "code",
   "execution_count": 19,
   "metadata": {},
   "outputs": [
    {
     "data": {
      "text/plain": [
       "(2, 4)"
      ]
     },
     "execution_count": 19,
     "metadata": {},
     "output_type": "execute_result"
    }
   ],
   "source": [
    "#예제13\n",
    "\n",
    "divmod(20, 8)\n",
    "\n",
    "t = (20, 8)\n",
    "divmod(*t)\n",
    "\n",
    "quotient, reaminder = divmod(*t)\n",
    "quotient, reaminder"
   ]
  },
  {
   "cell_type": "code",
   "execution_count": 20,
   "metadata": {},
   "outputs": [
    {
     "data": {
      "text/plain": [
       "'idrsa.pub'"
      ]
     },
     "execution_count": 20,
     "metadata": {},
     "output_type": "execute_result"
    }
   ],
   "source": [
    "#예제14\n",
    "\n",
    "import os\n",
    "\n",
    "_, filename = os.path.split('/home/luciano/.ssh/idrsa.pub')\n",
    "filename"
   ]
  },
  {
   "cell_type": "code",
   "execution_count": 23,
   "metadata": {},
   "outputs": [
    {
     "data": {
      "text/plain": [
       "(0, 1, [])"
      ]
     },
     "execution_count": 23,
     "metadata": {},
     "output_type": "execute_result"
    }
   ],
   "source": [
    "#예제15\n",
    "\n",
    "a, b, *rest = range(5)\n",
    "a, b, rest\n",
    "\n",
    "a, b, *rest = range(3)\n",
    "a, b, rest\n",
    "\n",
    "a, b, *rest = range(2)\n",
    "a, b, rest\n"
   ]
  },
  {
   "cell_type": "code",
   "execution_count": 24,
   "metadata": {},
   "outputs": [
    {
     "data": {
      "text/plain": [
       "([0, 1], 2, 3, 4)"
      ]
     },
     "execution_count": 24,
     "metadata": {},
     "output_type": "execute_result"
    }
   ],
   "source": [
    "#예제16\n",
    "\n",
    "a, *body, c, d = range(5)\n",
    "a, body, c, d\n",
    "\n",
    "*head, b, c, d = range(5)\n",
    "head, b, c, d\n"
   ]
  },
  {
   "cell_type": "code",
   "execution_count": 27,
   "metadata": {},
   "outputs": [
    {
     "name": "stdout",
     "output_type": "stream",
     "text": [
      "                |   lat.    |   long.  \n",
      "Mexico City     |   19.0000 |  -99.0000\n",
      "New York-Newark |   40.0000 |  -74.0000\n",
      "Sao Paulo       |  -23.0000 |  -46.0000\n"
     ]
    }
   ],
   "source": [
    "#예제17\n",
    "\n",
    "metro_areas = [\n",
    "    (\"Tokyo\", \"JP\", 36.933, (35, 139)),\n",
    "    (\"Delhi NCR\", \"IN\", 21, (28, 77)),\n",
    "    (\"Mexico City\", \"MX\", 20, (19, -99)),\n",
    "    (\"New York-Newark\", \"US\", 20, (40, -74)),\n",
    "    (\"Sao Paulo\", \"BR\", 19, (-23, -46))\n",
    "]\n",
    "\n",
    "print(\"{:15} | {:^9} | {:^9}\".format('', 'lat.', 'long.'))\n",
    "fnt = '{:15} | {:9.4f} | {:9.4f}'\n",
    "\n",
    "for name, cc, pop, (lat, longi) in metro_areas :\n",
    "    if longi <= 0 :\n",
    "        print(fnt.format(name, lat, longi))\n"
   ]
  },
  {
   "cell_type": "code",
   "execution_count": 29,
   "metadata": {},
   "outputs": [
    {
     "data": {
      "text/plain": [
       "'JP'"
      ]
     },
     "execution_count": 29,
     "metadata": {},
     "output_type": "execute_result"
    }
   ],
   "source": [
    "#예제18\n",
    "\n",
    "from collections import namedtuple\n",
    "City = namedtuple('City', 'name country population coordinates')\n",
    "tokyo = City('Tokyo', 'JP', 36.933, (35.689, 139.691))\n",
    "tokyo\n",
    "tokyo.population\n",
    "tokyo.coordinates\n",
    "tokyo[1]"
   ]
  },
  {
   "cell_type": "code",
   "execution_count": 31,
   "metadata": {},
   "outputs": [
    {
     "name": "stdout",
     "output_type": "stream",
     "text": [
      "name: Delhi NCR\n",
      "country: IN\n",
      "population: 21.935\n",
      "coordinates: LatLong(lat=28.613, long=77.208)\n"
     ]
    }
   ],
   "source": [
    "#예제19\n",
    "\n",
    "City._fields\n",
    "\n",
    "LatLong = namedtuple('LatLong', 'lat long')\n",
    "delhi_data = ('Delhi NCR', 'IN', 21.935, LatLong(28.613, 77.208))\n",
    "\n",
    "delhi = City._make(delhi_data)\n",
    "delhi._asdict()\n",
    "\n",
    "for key, value in delhi._asdict().items() :\n",
    "    print(key + ':', value)"
   ]
  },
  {
   "cell_type": "code",
   "execution_count": 32,
   "metadata": {},
   "outputs": [
    {
     "name": "stdout",
     "output_type": "stream",
     "text": [
      "[10, 20]\n",
      "[30, 40, 50, 60]\n",
      "[10, 20, 30]\n",
      "[40, 50, 60]\n"
     ]
    }
   ],
   "source": [
    "#예제20\n",
    "\n",
    "l = [10, 20, 30, 40, 50, 60]\n",
    "print(l[:2])\n",
    "print(l[2:])\n",
    "print(l[:3])\n",
    "print(l[3:])"
   ]
  },
  {
   "cell_type": "code",
   "execution_count": 34,
   "metadata": {},
   "outputs": [
    {
     "name": "stdout",
     "output_type": "stream",
     "text": [
      "     $17 Pimoroni           \n",
      "     $4. 6mm Tactile        \n",
      " \n"
     ]
    }
   ],
   "source": [
    "#예제21\n",
    "\n",
    "invoice = \"\"\"\n",
    "0.....6....................25........33.......40........\n",
    "1909  Pimoroni                $17.50    2      $52.50\n",
    "1489  6mm Tactile             $4.95     2      $9.90    \n",
    "\"\"\"\n",
    "\n",
    "SKU = slice(0, 6)\n",
    "DESCRIPTION = slice(6, 25)\n",
    "UNIT_PRICE = slice(25, 33)\n",
    "QUANTITY = slice(33, 40)\n",
    "ITEM_TOTAL = slice(55, None)\n",
    "\n",
    "line_items = invoice.split('\\n')[2:]\n",
    "for item in line_items:\n",
    "    print(item[UNIT_PRICE], item[DESCRIPTION])\n"
   ]
  },
  {
   "cell_type": "code",
   "execution_count": 37,
   "metadata": {},
   "outputs": [
    {
     "data": {
      "text/plain": [
       "[0, 1, 20, 11, 5, 22, 9]"
      ]
     },
     "execution_count": 37,
     "metadata": {},
     "output_type": "execute_result"
    }
   ],
   "source": [
    "#예제22\n",
    "\n",
    "l = list(range(10))\n",
    "l\n",
    "l[2:5] = [20, 30]\n",
    "l\n",
    "del l[5:7]\n",
    "l\n",
    "l[3::2] = [11, 22]\n",
    "l"
   ]
  },
  {
   "cell_type": "code",
   "execution_count": 38,
   "metadata": {},
   "outputs": [
    {
     "ename": "TypeError",
     "evalue": "can only assign an iterable",
     "output_type": "error",
     "traceback": [
      "\u001b[1;31m---------------------------------------------------------------------------\u001b[0m",
      "\u001b[1;31mTypeError\u001b[0m                                 Traceback (most recent call last)",
      "Cell \u001b[1;32mIn[38], line 3\u001b[0m\n\u001b[0;32m      1\u001b[0m \u001b[38;5;66;03m#예제23\u001b[39;00m\n\u001b[1;32m----> 3\u001b[0m \u001b[43ml\u001b[49m\u001b[43m[\u001b[49m\u001b[38;5;241;43m2\u001b[39;49m\u001b[43m:\u001b[49m\u001b[38;5;241;43m5\u001b[39;49m\u001b[43m]\u001b[49m \u001b[38;5;241m=\u001b[39m \u001b[38;5;241m100\u001b[39m\n",
      "\u001b[1;31mTypeError\u001b[0m: can only assign an iterable"
     ]
    }
   ],
   "source": [
    "#예제23\n",
    "\n",
    "l[2:5] = 100"
   ]
  },
  {
   "cell_type": "code",
   "execution_count": 36,
   "metadata": {},
   "outputs": [
    {
     "data": {
      "text/plain": [
       "[10, 20, 100, 60]"
      ]
     },
     "execution_count": 36,
     "metadata": {},
     "output_type": "execute_result"
    }
   ],
   "source": [
    "#예제24\n",
    "\n",
    "l[2:5] = [100]\n",
    "l"
   ]
  },
  {
   "cell_type": "code",
   "execution_count": 39,
   "metadata": {},
   "outputs": [
    {
     "data": {
      "text/plain": [
       "[1, 2, 3, 1, 2, 3, 1, 2, 3, 1, 2, 3, 1, 2, 3]"
      ]
     },
     "execution_count": 39,
     "metadata": {},
     "output_type": "execute_result"
    }
   ],
   "source": [
    "#예제25\n",
    "\n",
    "l = [1, 2, 3]\n",
    "l * 5"
   ]
  },
  {
   "cell_type": "code",
   "execution_count": 42,
   "metadata": {},
   "outputs": [
    {
     "data": {
      "text/plain": [
       "[['_', '_', '_'], ['_', '_', 'x'], ['_', '_', '_']]"
      ]
     },
     "execution_count": 42,
     "metadata": {},
     "output_type": "execute_result"
    }
   ],
   "source": [
    "#예제26\n",
    "\n",
    "board = [['_'] * 3 for i in range(3)]\n",
    "board\n",
    "\n",
    "board[1][2] = 'x'\n",
    "board"
   ]
  },
  {
   "cell_type": "code",
   "execution_count": 44,
   "metadata": {},
   "outputs": [
    {
     "data": {
      "text/plain": [
       "[['_', '_', '0'], ['_', '_', '0'], ['_', '_', '0']]"
      ]
     },
     "execution_count": 44,
     "metadata": {},
     "output_type": "execute_result"
    }
   ],
   "source": [
    "#예제27\n",
    "\n",
    "weird_board = [['_'] * 3] * 3\n",
    "weird_board\n",
    "\n",
    "weird_board[1][2] = '0'\n",
    "weird_board"
   ]
  },
  {
   "cell_type": "code",
   "execution_count": 45,
   "metadata": {},
   "outputs": [
    {
     "name": "stdout",
     "output_type": "stream",
     "text": [
      "[['_', '_', 'X'], ['_', '_', 'X'], ['_', '_', 'X']]\n"
     ]
    }
   ],
   "source": [
    "#예제28\n",
    "\n",
    "row = ['_'] * 3\n",
    "board = []\n",
    "for i in range(3):\n",
    "    board.append(row)\n",
    "\n",
    "board[1][2] = 'X'\n",
    "board"
   ]
  },
  {
   "cell_type": "code",
   "execution_count": null,
   "metadata": {},
   "outputs": [],
   "source": [
    "#예제29\n",
    "\n",
    "board = []\n",
    "for i in range(3):\n",
    "    row = ['_'] * 3\n",
    "    board.append(row)\n",
    "\n",
    "print(board)\n",
    "\n",
    "board[2][0] = 'X'\n",
    "board"
   ]
  },
  {
   "cell_type": "code",
   "execution_count": null,
   "metadata": {},
   "outputs": [],
   "source": [
    "#예제30\n",
    "\n",
    "l = [1, 2, 3]\n",
    "id(l)\n",
    "l *= 2\n",
    "l\n",
    "id(l)"
   ]
  },
  {
   "cell_type": "code",
   "execution_count": null,
   "metadata": {},
   "outputs": [],
   "source": [
    "#예제31\n",
    "\n",
    "t = (1, 2, 3)\n",
    "id(t)\n",
    "t *= 2\n",
    "id(t)"
   ]
  },
  {
   "cell_type": "code",
   "execution_count": null,
   "metadata": {},
   "outputs": [],
   "source": [
    "#예제32\n",
    "\n",
    "t = (1, 2, [30, 40])\n",
    "print(t)\n",
    "\n",
    "t[2] += [50, 60]\n"
   ]
  },
  {
   "cell_type": "code",
   "execution_count": null,
   "metadata": {},
   "outputs": [],
   "source": [
    "#예제33\n",
    "\n",
    "print(t)"
   ]
  },
  {
   "cell_type": "code",
   "execution_count": null,
   "metadata": {},
   "outputs": [],
   "source": [
    "#예제34\n",
    "\n",
    "fruits = ['grape', 'raspberry', 'apple', 'banana']\n",
    "sorted(fruits)\n",
    "fruits\n",
    "sorted(fruits, reverse=True)\n",
    "sorted(fruits, key=len)"
   ]
  },
  {
   "cell_type": "code",
   "execution_count": null,
   "metadata": {},
   "outputs": [],
   "source": [
    "#예제35\n",
    "\n",
    "sorted(fruits, key=len, reverse=True)\n",
    "fruits\n",
    "fruits.sort()\n",
    "fruits"
   ]
  },
  {
   "cell_type": "code",
   "execution_count": null,
   "metadata": {},
   "outputs": [],
   "source": [
    "#예제36\n",
    "\n",
    "from array import array\n",
    "from random import random\n",
    "\n",
    "floats = array('d', (random() for i in range(10**7)))\n",
    "floats[-1]\n"
   ]
  },
  {
   "cell_type": "code",
   "execution_count": null,
   "metadata": {},
   "outputs": [],
   "source": [
    "#예제37\n",
    "\n",
    "with open('floats.bin', 'wb') as f:\n",
    "    floats.tofile(f)\n",
    "\n",
    "floats2 = array('d')\n",
    "with open('floats.bin', 'rb') as f:\n",
    "    floats2.fromfile(f, 10**7)\n",
    "\n",
    "floats2[-1]\n",
    "floats2 == floats\n"
   ]
  },
  {
   "cell_type": "code",
   "execution_count": 46,
   "metadata": {},
   "outputs": [
    {
     "data": {
      "text/plain": [
       "array('h', [-2, -1, 1024, 1, 2])"
      ]
     },
     "execution_count": 46,
     "metadata": {},
     "output_type": "execute_result"
    }
   ],
   "source": [
    "#예제38\n",
    "\n",
    "import array\n",
    "\n",
    "numbers = array.array('h', [-2, -1, 0, 1, 2])\n",
    "memv = memoryview(numbers)\n",
    "len(memv)\n",
    "memv[0]\n",
    "memv_oct = memv.cast('B')\n",
    "memv_oct.tolist()\n",
    "memv_oct[5] = 4\n",
    "numbers\n"
   ]
  },
  {
   "cell_type": "code",
   "execution_count": null,
   "metadata": {},
   "outputs": [],
   "source": [
    "#예제39\n",
    "import numpy\n",
    "a = numpy.arange(12)\n",
    "a\n",
    "type(a)"
   ]
  },
  {
   "cell_type": "code",
   "execution_count": null,
   "metadata": {},
   "outputs": [],
   "source": [
    "#예제40\n",
    "\n",
    "a.shape\n",
    "\n",
    "a.shape = 3, 4\n",
    "a"
   ]
  },
  {
   "cell_type": "code",
   "execution_count": null,
   "metadata": {},
   "outputs": [],
   "source": [
    "#예제41\n",
    "\n",
    "a[2]\n",
    "a[2, 1]\n",
    "a[:, 1]"
   ]
  },
  {
   "cell_type": "code",
   "execution_count": null,
   "metadata": {},
   "outputs": [],
   "source": [
    "#예제42\n",
    "\n",
    "a.transpose"
   ]
  },
  {
   "cell_type": "code",
   "execution_count": null,
   "metadata": {},
   "outputs": [],
   "source": [
    "#예제43\n",
    "\n",
    "from collections import deque\n",
    "\n",
    "dq = deque(range(10), maxlen = 10)\n",
    "dq\n",
    "\n",
    "dq.rotate\n",
    "dq\n",
    "\n",
    "dq.rotate(-4)\n",
    "dq"
   ]
  },
  {
   "cell_type": "code",
   "execution_count": null,
   "metadata": {},
   "outputs": [],
   "source": [
    "#예제44\n",
    "\n",
    "dq.appendleft(-1)\n",
    "dq\n",
    "\n",
    "dq.extend([11, 22, 33])\n",
    "dq\n",
    "\n",
    "dq.extendleft([10, 20, 30, 40])\n",
    "dq\n",
    "\n"
   ]
  }
 ],
 "metadata": {
  "kernelspec": {
   "display_name": "Python 3",
   "language": "python",
   "name": "python3"
  },
  "language_info": {
   "codemirror_mode": {
    "name": "ipython",
    "version": 3
   },
   "file_extension": ".py",
   "mimetype": "text/x-python",
   "name": "python",
   "nbconvert_exporter": "python",
   "pygments_lexer": "ipython3",
   "version": "3.12.3"
  }
 },
 "nbformat": 4,
 "nbformat_minor": 2
}
